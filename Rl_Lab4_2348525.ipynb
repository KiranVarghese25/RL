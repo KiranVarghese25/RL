{
  "nbformat": 4,
  "nbformat_minor": 0,
  "metadata": {
    "colab": {
      "provenance": []
    },
    "kernelspec": {
      "name": "python3",
      "display_name": "Python 3"
    },
    "language_info": {
      "name": "python"
    }
  },
  "cells": [
    {
      "cell_type": "markdown",
      "source": [
        "# Question\n",
        "Lab 4: Develop a program to perform policy evaluation and improvement for a given MDP"
      ],
      "metadata": {
        "id": "ROzVq-NcJXpT"
      }
    },
    {
      "cell_type": "code",
      "execution_count": null,
      "metadata": {
        "id": "Ci0isHXvHnxv"
      },
      "outputs": [],
      "source": [
        "# Libraries\n",
        "import numpy as np\n"
      ]
    },
    {
      "cell_type": "code",
      "source": [
        "class MDP:\n",
        "    def __init__(self, states, actions, transition_prob, rewards, gamma=0.9, theta=1e-5):\n",
        "        self.states = states\n",
        "        self.actions = actions\n",
        "        self.transition_prob = transition_prob\n",
        "        self.rewards = rewards\n",
        "        self.gamma = gamma\n",
        "        self.theta = theta\n",
        "        self.policy = {s: np.random.choice(actions) for s in states}\n",
        "        self.value = {s: 0 for s in states}\n",
        "\n",
        "    def policy_evaluation(self):\n",
        "        while True:\n",
        "            delta = 0\n",
        "            for s in self.states:\n",
        "                v = self.value[s]\n",
        "                action = self.policy[s]\n",
        "                self.value[s] = sum(self.transition_prob[s][action][s_next] *\n",
        "                                    (self.rewards[s][action][s_next] +\n",
        "                                     self.gamma * self.value[s_next])\n",
        "                                    for s_next in self.states)\n",
        "                delta = max(delta, abs(v - self.value[s]))\n",
        "            if delta < self.theta:\n",
        "                break\n",
        "\n",
        "    def policy_improvement(self):\n",
        "        policy_stable = True\n",
        "        for s in self.states:\n",
        "            old_action = self.policy[s]\n",
        "            action_values = {a: sum(self.transition_prob[s][a][s_next] *\n",
        "                                    (self.rewards[s][a][s_next] +\n",
        "                                     self.gamma * self.value[s_next])\n",
        "                                    for s_next in self.states)\n",
        "                             for a in self.actions}\n",
        "            self.policy[s] = max(action_values, key=action_values.get)\n",
        "            if old_action != self.policy[s]:\n",
        "                policy_stable = False\n",
        "        return policy_stable\n",
        "\n",
        "    def policy_iteration(self):\n",
        "        while True:\n",
        "            self.policy_evaluation()\n",
        "            if self.policy_improvement():\n",
        "                break\n",
        "        return self.policy, self.value\n",
        "\n",
        "# Example usage:\n",
        "if __name__ == \"__main__\":\n",
        "    states = ['S1', 'S2', 'S3']\n",
        "    actions = ['A1', 'A2']\n",
        "\n",
        "    # Define transition probabilities for each action at each state\n",
        "    transition_prob = {\n",
        "        'S1': {\n",
        "            'A1': {'S1': 0.5, 'S2': 0.5, 'S3': 0.0},\n",
        "            'A2': {'S1': 0.0, 'S2': 1.0, 'S3': 0.0}\n",
        "        },\n",
        "        'S2': {\n",
        "            'A1': {'S1': 0.0, 'S2': 0.7, 'S3': 0.3},\n",
        "            'A2': {'S1': 0.4, 'S2': 0.0, 'S3': 0.6}\n",
        "        },\n",
        "        'S3': {\n",
        "            'A1': {'S1': 0.0, 'S2': 0.0, 'S3': 1.0},\n",
        "            'A2': {'S1': 0.0, 'S2': 0.0, 'S3': 1.0}\n",
        "        }\n",
        "    }\n",
        "\n",
        "    # Define rewards for each state-action-next_state combination\n",
        "    rewards = {\n",
        "        'S1': {\n",
        "            'A1': {'S1': 0, 'S2': 1, 'S3': 0},\n",
        "            'A2': {'S1': 0, 'S2': 1, 'S3': 0}\n",
        "        },\n",
        "        'S2': {\n",
        "            'A1': {'S1': 0, 'S2': 0, 'S3': 1},\n",
        "            'A2': {'S1': 0, 'S2': 0, 'S3': 2}\n",
        "        },\n",
        "        'S3': {\n",
        "            'A1': {'S1': 0, 'S2': 0, 'S3': 0},\n",
        "            'A2': {'S1': 0, 'S2': 0, 'S3': 0}\n",
        "        }\n",
        "    }\n",
        "\n",
        "    mdp = MDP(states, actions, transition_prob, rewards)\n",
        "    policy, value = mdp.policy_iteration()\n",
        "\n",
        "    print(\"Optimal Policy:\", policy)\n",
        "    print(\"Value Function:\", value)\n",
        "\n",
        "\n"
      ],
      "metadata": {
        "colab": {
          "base_uri": "https://localhost:8080/"
        },
        "id": "SRiwOuoNJi9g",
        "outputId": "b4c002cb-6b11-47ae-ce32-e9de661bcf01"
      },
      "execution_count": null,
      "outputs": [
        {
          "output_type": "stream",
          "name": "stdout",
          "text": [
            "Optimal Policy: {'S1': 'A2', 'S2': 'A2', 'S3': 'A1'}\n",
            "Value Function: {'S1': 3.076921274023741, 'S2': 2.307691658648547, 'S3': 0.0}\n"
          ]
        }
      ]
    },
    {
      "cell_type": "code",
      "source": [],
      "metadata": {
        "id": "SVUcurzzJ4Xn"
      },
      "execution_count": null,
      "outputs": []
    }
  ]
}